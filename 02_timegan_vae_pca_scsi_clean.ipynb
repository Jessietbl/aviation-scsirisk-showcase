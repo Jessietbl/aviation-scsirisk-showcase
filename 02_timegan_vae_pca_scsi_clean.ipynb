{
  "nbformat": 4,
  "nbformat_minor": 0,
  "metadata": {
    "colab": {
      "provenance": [],
      "authorship_tag": "ABX9TyO9NL17N9Pk5Xtk9yIrb5PJ",
      "include_colab_link": true
    },
    "kernelspec": {
      "name": "python3",
      "display_name": "Python 3"
    },
    "language_info": {
      "name": "python"
    }
  },
  "cells": [
    {
      "cell_type": "markdown",
      "metadata": {
        "id": "view-in-github",
        "colab_type": "text"
      },
      "source": [
        "<a href=\"https://colab.research.google.com/github/Jessietbl/aviation-scsirisk-showcase/blob/main/02_timegan_vae_pca_scsi_clean.ipynb\" target=\"_parent\"><img src=\"https://colab.research.google.com/assets/colab-badge.svg\" alt=\"Open In Colab\"/></a>"
      ]
    },
    {
      "cell_type": "markdown",
      "source": [
        "# TimeGAN–VAE SCSI (Showcase Demo)\n",
        "\n",
        "This demo reproduces the **Supply Chain Stress Index (SCSI)** pipeline with\n",
        "a *lightweight* approach fast to run, easy to read.\n",
        "\n",
        "**Storyline**\n",
        "1) Load curated features (market, regulated, trade/cargo, calendar)  \n",
        "2) (Stand-in) Generate *synthetic* market & regulated signals (TimeGAN/VAE slots)  \n",
        "3) Combine + standardize → **PCA(1)** → **SCSI**  \n",
        "4) Plot and summarize\n",
        "\n",
        "> The heavy versions (true TimeGAN/VAE training) live in the private thesis repo.\n"
      ],
      "metadata": {
        "id": "wH2JyEAsie9p"
      }
    },
    {
      "cell_type": "code",
      "execution_count": null,
      "metadata": {
        "id": "y2eRumwkiDQy"
      },
      "outputs": [],
      "source": [
        "# -- Imports & config (portable) --\n",
        "from pathlib import Path\n",
        "import numpy as np\n",
        "import pandas as pd\n",
        "import matplotlib.pyplot as plt\n",
        "from src.scsi_demo import (\n",
        "    prepare_base_frame,\n",
        "    add_temporal_features,\n",
        "    standin_timegan_market,\n",
        "    standin_vae_regulated,\n",
        "    assemble_feature_matrix,\n",
        "    compute_scsi_pca,\n",
        "    plot_scsi\n",
        ")\n",
        "\n",
        "DATA_DIR = Path(\"data\")\n",
        "OUT_DIR  = Path(\"outputs\"); OUT_DIR.mkdir(exist_ok=True, parents=True)\n",
        "\n",
        "START_DATE = \"2019-01-01\"\n",
        "END_DATE   = \"2024-12-01\"\n",
        "\n",
        "np.random.seed(42)\n"
      ]
    },
    {
      "cell_type": "code",
      "source": [
        "# -- 1) Load curated data (sample) --\n",
        "# Expected columns in sample_trade.csv: Period, exports, imports, total_trade, trade_balance, text\n",
        "trade = pd.read_csv(DATA_DIR / \"sample_trade.csv\")\n",
        "trade[\"Date\"] = pd.to_datetime(trade[\"Period\"])  # YYYY-MM\n",
        "trade = trade.set_index(\"Date\").sort_index()\n",
        "\n",
        "# Base monthly frame in the requested window\n",
        "base = prepare_base_frame(start=START_DATE, end=END_DATE)\n",
        "\n",
        "# Join demo trade features\n",
        "for col in [\"exports\",\"imports\",\"total_trade\",\"trade_balance\"]:\n",
        "    if col in trade.columns:\n",
        "        base[f\"{col}_trade\"] = trade[col].astype(float)\n",
        "\n",
        "# If you have other external sources in the showcase (optional), join them here similarly.\n",
        "base = base.sort_index()\n",
        "base.head()\n"
      ],
      "metadata": {
        "id": "5RhQ_-Swipu9"
      },
      "execution_count": null,
      "outputs": []
    },
    {
      "cell_type": "code",
      "source": [
        "# -- 2) Add calendar features (sin/cos month, policy dummy) --\n",
        "base = add_temporal_features(base)\n",
        "base.head()\n"
      ],
      "metadata": {
        "id": "eK8QlbFQivHe"
      },
      "execution_count": null,
      "outputs": []
    },
    {
      "cell_type": "code",
      "source": [
        "# -- 3) Stand-in TimeGAN (market) & VAE (regulated) signals --\n",
        "# These are *light* synthetic generators that mimic the shape/role of your models,\n",
        "# so the notebook runs in seconds. Replace with real TimeGAN/VAE calls in your private repo.\n",
        "\n",
        "market_cols = [\"AsiaPacific\", \"AsiaPacific_rescaled\", \"AirFreightRate_Weekly\", \"AirFreightRate_Annual\"]\n",
        "reg_cols    = [\"ron95\",\"ron97\",\"diesel\",\"diesel_eastmsia\"]\n",
        "\n",
        "market_synth = standin_timegan_market(base.index, market_cols)\n",
        "reg_synth    = standin_vae_regulated(base.index, reg_cols)\n",
        "\n",
        "market_synth.head(), reg_synth.head()\n"
      ],
      "metadata": {
        "id": "uV-iJ9v-iyAc"
      },
      "execution_count": null,
      "outputs": []
    },
    {
      "cell_type": "code",
      "source": [
        "# -- 4) Assemble full feature matrix for SCSI (includes trade and calendar) --\n",
        "X = assemble_feature_matrix(base, market_synth, reg_synth)\n",
        "X.head()\n"
      ],
      "metadata": {
        "id": "Ni8-if7Mi1PE"
      },
      "execution_count": null,
      "outputs": []
    },
    {
      "cell_type": "code",
      "source": [
        "# -- 5) PCA → SCSI (1D) with orientation safeguard --\n",
        "scsi_df, pca, scaler, flipped = compute_scsi_pca(X)\n",
        "\n",
        "print(f\"Explained variance (PC1): {pca.explained_variance_ratio_[0]:.3f}\")\n",
        "print(f\"Orientation flipped: {flipped}\")\n",
        "scsi_df.head()\n"
      ],
      "metadata": {
        "id": "UQsXzCkzi3Vt"
      },
      "execution_count": null,
      "outputs": []
    },
    {
      "cell_type": "code",
      "source": [
        "# -- 6) Plot & save --\n",
        "figpath = OUT_DIR / \"scsi_timeseries_demo.png\"\n",
        "plot_scsi(scsi_df, save_path=figpath)\n",
        "figpath\n"
      ],
      "metadata": {
        "id": "TlfvVncvi9H1"
      },
      "execution_count": null,
      "outputs": []
    },
    {
      "cell_type": "markdown",
      "source": [
        "## Notes\n",
        "- This is the **showcase** version: fast to run; minimal deps.\n",
        "- To plug back true **TimeGAN** and **VAE**:\n",
        "  - Replace `standin_timegan_market()` with trained TimeGAN inference.\n",
        "  - Replace `standin_vae_regulated()` with VAE inference.\n",
        "  - Keep `assemble_feature_matrix()` and `compute_scsi_pca()` identical."
      ],
      "metadata": {
        "id": "4wx1ZG6zjH0A"
      }
    }
  ]
}
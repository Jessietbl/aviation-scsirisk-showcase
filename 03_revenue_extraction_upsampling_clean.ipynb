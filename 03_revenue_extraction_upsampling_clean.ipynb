{
  "nbformat": 4,
  "nbformat_minor": 0,
  "metadata": {
    "colab": {
      "provenance": [],
      "authorship_tag": "ABX9TyPGhEF8AIHL3j9HgGHmH8nr",
      "include_colab_link": true
    },
    "kernelspec": {
      "name": "python3",
      "display_name": "Python 3"
    },
    "language_info": {
      "name": "python"
    }
  },
  "cells": [
    {
      "cell_type": "markdown",
      "metadata": {
        "id": "view-in-github",
        "colab_type": "text"
      },
      "source": [
        "<a href=\"https://colab.research.google.com/github/Jessietbl/aviation-scsirisk-showcase/blob/main/03_revenue_extraction_upsampling_clean.ipynb\" target=\"_parent\"><img src=\"https://colab.research.google.com/assets/colab-badge.svg\" alt=\"Open In Colab\"/></a>"
      ]
    },
    {
      "cell_type": "markdown",
      "source": [
        "# Revenue Extraction & Monthly Upsampling — Showcase Demo\n",
        "\n",
        "This demo shows:\n",
        "1) Parse quarterly revenue (AAX-style) → (using PDF or sample CSV)\n",
        "2) Shape-preserving monthly interpolation with **PCHIP**\n",
        "3) Plot + save outputs\n",
        "\n",
        "> The PDF parsing uses `src/revenue_utils.py`. For the showcase, we use a tiny CSV so it runs fast; you can switch to PDFs later.\n"
      ],
      "metadata": {
        "id": "0nnYuq66p2EF"
      }
    },
    {
      "cell_type": "code",
      "execution_count": null,
      "metadata": {
        "id": "ZtilozmtpuUv"
      },
      "outputs": [],
      "source": [
        "# Imports\n",
        "from pathlib import Path\n",
        "import pandas as pd\n",
        "import matplotlib.pyplot as plt\n",
        "\n",
        "from src.revenue_utils import (\n",
        "    harvest_from_pdfs,\n",
        "    piecewise_monthly_pchip,\n",
        ")\n",
        "\n",
        "DATA_DIR = Path(\"data\")\n",
        "OUT_DIR  = Path(\"outputs\"); OUT_DIR.mkdir(parents=True, exist_ok=True)\n"
      ]
    },
    {
      "cell_type": "code",
      "source": [
        "!mkdir -p src\n"
      ],
      "metadata": {
        "id": "QROuWp_Jp_61"
      },
      "execution_count": null,
      "outputs": []
    },
    {
      "cell_type": "code",
      "source": [
        "%%writefile src/revenue_utils.py\n",
        "from __future__ import annotations\n",
        "import re\n",
        "from pathlib import Path\n",
        "from typing import Iterable, Optional, List, Tuple\n",
        "\n",
        "import numpy as np\n",
        "import pandas as pd\n",
        "\n",
        "# Optional PDF text extraction (only used if you pass PDF paths)\n",
        "def extract_text_pdf(path: str) -> str:\n",
        "    \"\"\"\n",
        "    Extracts text from a PDF using pdfplumber if available.\n",
        "    If pdfplumber isn't installed, raises a clear error.\n",
        "    \"\"\"\n",
        "    try:\n",
        "        import pdfplumber\n",
        "    except ImportError as e:\n",
        "        raise ImportError(\"pdfplumber is required to read PDFs in this demo. \"\n",
        "                          \"Install it or provide pre-extracted text/CSV.\") from e\n",
        "\n",
        "    chunks = []\n",
        "    with pdfplumber.open(path) as pdf:\n",
        "        for page in pdf.pages:\n",
        "            chunks.append(page.extract_text() or \"\")\n",
        "    return \"\\n\".join(chunks)\n",
        "\n",
        "\n",
        "# --- Regex patterns (robust to AAX formats) ---\n",
        "DATE_PAT_DDMMYYYY = re.compile(\n",
        "    r\"(?:Quarter|Year)\\s+ended\\s*:?\\s*(\\d{2}/\\d{2}/\\d{4})\",\n",
        "    re.IGNORECASE\n",
        ")\n",
        "DATE_PAT_WORD = re.compile(\n",
        "    r\"(?:Quarter|Year)\\s+ended\\s*:?\\s*([0-9]{1,2}\\s+\\w+\\s+\\d{4})\",\n",
        "    re.IGNORECASE\n",
        ")\n",
        "\n",
        "# \"Revenue\" followed by optional footnote digits, then first large number\n",
        "REV_PAT = re.compile(\n",
        "    r\"Revenue(?:\\s+\\d+)*\\s+((?:\\d{1,3}(?:,\\d{3})+|\\d{4,}))\",\n",
        "    re.IGNORECASE\n",
        ")\n",
        "\n",
        "\n",
        "def parse_quarter_end(text: str) -> Optional[pd.Timestamp]:\n",
        "    \"\"\"Parse 'Quarter ended DD/MM/YYYY' or 'Quarter ended 31 March 2020'.\"\"\"\n",
        "    m = DATE_PAT_DDMMYYYY.search(text or \"\")\n",
        "    if m:\n",
        "        return pd.to_datetime(m.group(1), format=\"%d/%m/%Y\", errors=\"coerce\")\n",
        "    m = DATE_PAT_WORD.search(text or \"\")\n",
        "    if m:\n",
        "        return pd.to_datetime(m.group(1), dayfirst=True, errors=\"coerce\")\n",
        "    return None\n",
        "\n",
        "\n",
        "def parse_revenue_rm000(text: str) -> Optional[int]:\n",
        "    \"\"\"\n",
        "    Return first revenue integer in **RM thousands** (as is).\n",
        "    Caller can multiply by 1000 to get RM.\n",
        "    \"\"\"\n",
        "    m = REV_PAT.search(text or \"\")\n",
        "    if not m:\n",
        "        return None\n",
        "    return int(m.group(1).replace(\",\", \"\"))\n",
        "\n",
        "\n",
        "def harvest_from_pdfs(pdf_paths: Iterable[str]) -> pd.DataFrame:\n",
        "    \"\"\"\n",
        "    Extract (quarter_end, revenue_RM000) from a list of PDF files.\n",
        "    Returns a tidy DataFrame sorted by date.\n",
        "    \"\"\"\n",
        "    rows, miss = [], []\n",
        "    for p in sorted(set(map(str, pdf_paths))):\n",
        "        try:\n",
        "            t = extract_text_pdf(p)\n",
        "            qe = parse_quarter_end(t)\n",
        "            rev = parse_revenue_rm000(t)\n",
        "            if qe is None or rev is None:\n",
        "                miss.append(Path(p).name)\n",
        "            rows.append({\"file\": Path(p).name, \"quarter_end\": qe, \"revenue_RM000\": rev})\n",
        "        except Exception:\n",
        "            miss.append(Path(p).name)\n",
        "            rows.append({\"file\": Path(p).name, \"quarter_end\": None, \"revenue_RM000\": None})\n",
        "\n",
        "    df = pd.DataFrame(rows).dropna(subset=[\"quarter_end\", \"revenue_RM000\"]).sort_values(\"quarter_end\").reset_index(drop=True)\n",
        "    df[\"calendar_year\"] = df[\"quarter_end\"].dt.year\n",
        "    df[\"q_seq_in_year\"] = df.groupby(\"calendar_year\")[\"quarter_end\"].rank(method=\"first\").astype(int)\n",
        "    df[\"revenue_RM\"] = df[\"revenue_RM000\"] * 1000\n",
        "\n",
        "    return df\n",
        "\n",
        "\n",
        "# ---------- Piecewise monthly interpolation (shape-preserving) ----------\n",
        "def _months_from_start(dts: pd.Series, start_m: pd.Timestamp) -> np.ndarray:\n",
        "    return ((dts.dt.year - start_m.year) * 12 + (dts.dt.month - start_m.month)).astype(int).to_numpy()\n",
        "\n",
        "\n",
        "def piecewise_monthly_pchip(qdf: pd.DataFrame, value_col: str = \"revenue_RM\", gap_days: int = 150) -> pd.DataFrame:\n",
        "    \"\"\"\n",
        "    Interpolate monthly values within contiguous segments using PCHIP.\n",
        "    Large gaps (e.g., missing a year) are NOT bridged.\n",
        "    Requires SciPy for PchipInterpolator.\n",
        "    \"\"\"\n",
        "    try:\n",
        "        from scipy.interpolate import PchipInterpolator\n",
        "    except ImportError as e:\n",
        "        raise ImportError(\"scipy is required for PCHIP interpolation. Install scipy or replace with linear.\") from e\n",
        "\n",
        "    qdf = qdf.sort_values(\"quarter_end\").copy()\n",
        "    qdf[\"gap_days\"] = qdf[\"quarter_end\"].diff().dt.days\n",
        "\n",
        "    # Segment on big gaps\n",
        "    breaks = qdf.index[qdf[\"gap_days\"] > gap_days].tolist()\n",
        "    segments = []\n",
        "    start = 0\n",
        "    idxs = list(qdf.index)\n",
        "\n",
        "    def _slice(df, s, e): return df.iloc[s:e].copy()\n",
        "\n",
        "    for b in breaks + [len(qdf)]:\n",
        "        seg = _slice(qdf, start, b)\n",
        "        if len(seg) >= 2:\n",
        "            segments.append(seg)\n",
        "        start = b\n",
        "\n",
        "    monthly_parts = []\n",
        "    for seg in segments:\n",
        "        start_m = seg[\"quarter_end\"].min().to_period(\"M\").to_timestamp(\"M\")\n",
        "        end_m   = seg[\"quarter_end\"].max().to_period(\"M\").to_timestamp(\"M\")\n",
        "        m_idx   = pd.date_range(start=start_m, end=end_m, freq=\"M\")\n",
        "        x_q     = _months_from_start(seg[\"quarter_end\"], start_m)\n",
        "        y_q     = seg[value_col].astype(float).to_numpy()\n",
        "        x_m     = np.arange(len(m_idx))\n",
        "\n",
        "        interp  = PchipInterpolator(x_q, y_q)\n",
        "        y_m     = interp(x_m)\n",
        "\n",
        "        monthly_parts.append(pd.DataFrame({\"month_end\": m_idx, f\"{value_col}_monthly\": y_m}))\n",
        "\n",
        "    if not monthly_parts:\n",
        "        return pd.DataFrame(columns=[\"month_end\", f\"{value_col}_monthly\"])\n",
        "    mdf = pd.concat(monthly_parts, axis=0).drop_duplicates(\"month_end\").sort_values(\"month_end\")\n",
        "    return mdf.reset_index(drop=True)\n"
      ],
      "metadata": {
        "id": "jqKojPKmqAhI"
      },
      "execution_count": null,
      "outputs": []
    },
    {
      "cell_type": "code",
      "source": [
        "# ---- Parse real PDFs (uncomment & provide paths) ----\n",
        "# pdfs = list(Path(\"inputs\").glob(\"*.pdf\"))\n",
        "# df = harvest_from_pdfs(pdfs)\n",
        "# df.to_csv(OUT_DIR / \"quarterly_revenue_unified.csv\", index=False)\n",
        "# df.head()\n"
      ],
      "metadata": {
        "id": "5OUSotjCqbEH"
      },
      "execution_count": null,
      "outputs": []
    },
    {
      "cell_type": "code",
      "source": [
        "# Monthly interpolation (piecewise PCHIP)\n",
        "mdf = piecewise_monthly_pchip(df, value_col=\"revenue_RM\", gap_days=150)\n",
        "mdf.to_csv(OUT_DIR / \"monthly_revenue_piecewise_pchip.csv\", index=False)\n",
        "mdf.head()\n"
      ],
      "metadata": {
        "id": "4Kaal5hBqnmf"
      },
      "execution_count": null,
      "outputs": []
    },
    {
      "cell_type": "code",
      "source": [
        "# Plot\n",
        "plt.figure(figsize=(11,5))\n",
        "plt.plot(df[\"quarter_end\"], df[\"revenue_RM\"], \"o-\", label=\"Quarterly (RM)\")\n",
        "if not mdf.empty:\n",
        "    plt.plot(mdf[\"month_end\"], mdf[\"revenue_RM_monthly\"], \"--\", label=\"Monthly (PCHIP)\")\n",
        "plt.title(\"Revenue: Quarterly + Piecewise Monthly Interpolation\")\n",
        "plt.xlabel(\"Date\"); plt.ylabel(\"RM\"); plt.grid(True); plt.legend(); plt.tight_layout()\n",
        "plt.show()\n"
      ],
      "metadata": {
        "id": "8dbYXaliqrqz"
      },
      "execution_count": null,
      "outputs": []
    }
  ]
}